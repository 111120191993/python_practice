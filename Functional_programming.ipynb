{
  "nbformat": 4,
  "nbformat_minor": 0,
  "metadata": {
    "colab": {
      "provenance": []
    },
    "kernelspec": {
      "name": "python3",
      "display_name": "Python 3"
    },
    "language_info": {
      "name": "python"
    }
  },
  "cells": [
    {
      "cell_type": "markdown",
      "source": [
        "# Functional programming in python\n",
        "It is a paradigm in which the primary method of computation is evaluation of fucntions.\n",
        "A pure function is a function whose output value follows soleley from its input values, without any observable side effects.\n",
        "### Advantages of fucntional coding\n",
        "\n",
        "\n",
        "*   High level\n",
        "*   Transparent and parallelizable\n",
        "we describe the result we want rarher than explicitly specifying the steps required to get there. Single statements tend to be concise.\n",
        "The behaviour of a pure function depends only on its i/p and o/ps, without intermediary values. That eliminates the possibility of side effects, which facilitates debugging.\n",
        "In pure function, when we give the list of elements into the function, it should give the same output when we execute n number of times.\n",
        "Able to test code better.\n",
        "e.g [1,2,3] -> f(x**2)-> [2,4,6]\n",
        "and it should not produce any side effect.(to the outside world(outside the code).\n",
        "\n"
      ],
      "metadata": {
        "id": "hNUHvtzKRxRl"
      }
    },
    {
      "cell_type": "code",
      "execution_count": 9,
      "metadata": {
        "colab": {
          "base_uri": "https://localhost:8080/"
        },
        "id": "_AsHRK4yRorL",
        "outputId": "5033a0df-acaf-4dc4-8adb-f1d674945f3a"
      },
      "outputs": [
        {
          "output_type": "stream",
          "name": "stdout",
          "text": [
            "[2, 4, 6]\n"
          ]
        }
      ],
      "source": [
        " #we can use a function to a variable. can then use that variable the same as we would use the function itself.\n",
        "\n",
        "def mul_by2(li):\n",
        "  new_list= []\n",
        "  for item in li:\n",
        "    new_list.append(item*2)\n",
        "  return new_list\n",
        "\n",
        "print(mul_by2([1,2,3]))\n"
      ]
    },
    {
      "cell_type": "code",
      "source": [
        "print(2*3)"
      ],
      "metadata": {
        "colab": {
          "base_uri": "https://localhost:8080/"
        },
        "id": "eJc4c2UWUG0O",
        "outputId": "18942abd-0b95-4849-c1c5-a06c7e15a3c4"
      },
      "execution_count": 5,
      "outputs": [
        {
          "output_type": "stream",
          "name": "stdout",
          "text": [
            "6\n"
          ]
        }
      ]
    },
    {
      "cell_type": "code",
      "source": [
        "# important functions- map, reduce, zip, filter\n",
        "\n",
        "#map - map(func, *iterables)\n",
        "\n",
        "def multiply_by2(list):\n",
        "  return list*2\n",
        "\n",
        "print(list(map(multiply_by2, [3,4,5])))  # data gets acted upon\n",
        "\n"
      ],
      "metadata": {
        "colab": {
          "base_uri": "https://localhost:8080/"
        },
        "id": "vV6wTxCmUG2i",
        "outputId": "435b9c0f-d127-4a04-ecf3-e63f76bdcbc2"
      },
      "execution_count": 14,
      "outputs": [
        {
          "output_type": "stream",
          "name": "stdout",
          "text": [
            "[6, 8, 10]\n"
          ]
        }
      ]
    },
    {
      "cell_type": "code",
      "source": [
        "new_list=[1,2,3]                                #map function doesnt affect outside world and lists are immutable.\n",
        "def multiply_by2(list):\n",
        "  return list*2\n",
        "\n",
        "print(list(map(multiply_by2, [3,4,5])))\n",
        "print(new_list)"
      ],
      "metadata": {
        "colab": {
          "base_uri": "https://localhost:8080/"
        },
        "id": "CWZnai3ZUG5P",
        "outputId": "d2e10e36-eae5-4f44-e408-d1b0d7c5c44a"
      },
      "execution_count": 15,
      "outputs": [
        {
          "output_type": "stream",
          "name": "stdout",
          "text": [
            "[6, 8, 10]\n",
            "[1, 2, 3]\n"
          ]
        }
      ]
    },
    {
      "cell_type": "code",
      "source": [
        "# filter - \n",
        "new_list=[3,4,5]                               \n",
        "def multiply_by2(list):\n",
        "  return list*2\n",
        "\n",
        "def check_odd(list):\n",
        "  return list % 2 != 0\n",
        "\n",
        "print(list(filter(check_odd, new_list)))\n",
        "print(new_list)"
      ],
      "metadata": {
        "colab": {
          "base_uri": "https://localhost:8080/"
        },
        "id": "44uH0sstUG8q",
        "outputId": "00ad4ef0-5610-4369-cfa6-d3ac34e7b1c7"
      },
      "execution_count": 16,
      "outputs": [
        {
          "output_type": "stream",
          "name": "stdout",
          "text": [
            "[3, 5]\n",
            "[3, 4, 5]\n"
          ]
        }
      ]
    },
    {
      "cell_type": "code",
      "source": [
        "#zip - when we need 2 list and 2 iterables then we use zip \n",
        "\n",
        "new_list=[3,4,5]  \n",
        "my_list=[10,202,30]                  #this list also can be a tuple. it doesnt matter                         \n",
        "def multiply_by2(list):\n",
        "  return list*2\n",
        "\n",
        "def check_odd(list):\n",
        "  return list % 2 != 0\n",
        "\n",
        "print(list(zip(new_list, my_list)))         #returns combined tuples in a list\n",
        "print(my_list)\n",
        "\n"
      ],
      "metadata": {
        "colab": {
          "base_uri": "https://localhost:8080/"
        },
        "id": "J0yJ6tz_ferP",
        "outputId": "56eec170-d858-430a-e112-6d45b12fdc3b"
      },
      "execution_count": 17,
      "outputs": [
        {
          "output_type": "stream",
          "name": "stdout",
          "text": [
            "[(3, 10), (4, 202), (5, 30)]\n",
            "[10, 202, 30]\n"
          ]
        }
      ]
    },
    {
      "cell_type": "code",
      "source": [
        "# reduce - bit advanced.\n",
        "\n",
        "from functools import reduce\n",
        "\n",
        "\n",
        "my_list=[10,20,30]                             \n",
        "def multiply_by2(list):\n",
        "  return list*2\n",
        "\n",
        "def check_odd(list):\n",
        "  return list % 2 != 0\n",
        "\n",
        "def accumulator(acc, list):\n",
        "  print(acc, list)\n",
        "  return acc + list\n",
        "\n",
        "print(reduce(accumulator , my_list, 0))\n",
        "print(my_list)"
      ],
      "metadata": {
        "colab": {
          "base_uri": "https://localhost:8080/"
        },
        "id": "BdHrbTTifs5m",
        "outputId": "03de0015-7cc0-46e0-f6ae-914a56485c31"
      },
      "execution_count": 19,
      "outputs": [
        {
          "output_type": "stream",
          "name": "stdout",
          "text": [
            "0 10\n",
            "10 20\n",
            "30 30\n",
            "60\n",
            "[10, 20, 30]\n"
          ]
        }
      ]
    },
    {
      "cell_type": "code",
      "source": [
        "# lambda expressions- function we need to use it once ina single line code. also called as anonymous function\n",
        "\n",
        "#lambda param: action(param)   #action we wanna take in parameter\n",
        "\n",
        "my_list= [5,7,9]\n",
        "print(list(map(lambda i: i*3, my_list)))\n",
        "\n"
      ],
      "metadata": {
        "colab": {
          "base_uri": "https://localhost:8080/"
        },
        "id": "5yP8aUwIfs9B",
        "outputId": "ed69ecd1-407f-4934-ed9e-1091ac8faa9d"
      },
      "execution_count": 20,
      "outputs": [
        {
          "output_type": "stream",
          "name": "stdout",
          "text": [
            "[15, 21, 27]\n"
          ]
        }
      ]
    },
    {
      "cell_type": "code",
      "source": [
        "# square\n",
        "my_list= [4,5,6]\n",
        "print(list(map(lambda i : i**2, my_list)))"
      ],
      "metadata": {
        "colab": {
          "base_uri": "https://localhost:8080/"
        },
        "id": "njFs9Zwafeul",
        "outputId": "9ce2538a-4b91-4a53-a680-996f4a680275"
      },
      "execution_count": 24,
      "outputs": [
        {
          "output_type": "stream",
          "name": "stdout",
          "text": [
            "[16, 25, 36]\n"
          ]
        }
      ]
    },
    {
      "cell_type": "code",
      "source": [
        "#list sorting\n",
        "a= [(0,2),(4,3),(9,9),(10,-1)]\n",
        "a.sort(key=lambda x: x[1])\n",
        "print(a)\n"
      ],
      "metadata": {
        "colab": {
          "base_uri": "https://localhost:8080/"
        },
        "id": "taQEBZ3mk1cc",
        "outputId": "2cb61d0a-cbd5-4040-80a7-3a7577b8c71f"
      },
      "execution_count": 25,
      "outputs": [
        {
          "output_type": "stream",
          "name": "stdout",
          "text": [
            "[(10, -1), (0, 2), (4, 3), (9, 9)]\n"
          ]
        }
      ]
    },
    {
      "cell_type": "code",
      "source": [
        "# List comprehensions \n",
        "\n",
        "#my_list= [param for param in iterable]\n",
        "my_list= [var for var in 'hello']\n",
        "print(my_list)\n",
        "\n"
      ],
      "metadata": {
        "colab": {
          "base_uri": "https://localhost:8080/"
        },
        "id": "PV9ksYNhk1jx",
        "outputId": "85958df9-3e00-49f3-dfe1-f86bbd2e83f5"
      },
      "execution_count": 26,
      "outputs": [
        {
          "output_type": "stream",
          "name": "stdout",
          "text": [
            "['h', 'e', 'l', 'l', 'o']\n"
          ]
        }
      ]
    },
    {
      "cell_type": "code",
      "source": [
        "my_list= [var for var in 'hello']\n",
        "my_list2= [num for num in range(0,10)]\n",
        "print(my_list2)\n"
      ],
      "metadata": {
        "colab": {
          "base_uri": "https://localhost:8080/"
        },
        "id": "zOq65kglk1na",
        "outputId": "433263d2-d979-4a5c-b759-0c6b60c5953c"
      },
      "execution_count": 27,
      "outputs": [
        {
          "output_type": "stream",
          "name": "stdout",
          "text": [
            "[0, 1, 2, 3, 4, 5, 6, 7, 8, 9]\n"
          ]
        }
      ]
    },
    {
      "cell_type": "code",
      "source": [],
      "metadata": {
        "id": "oKw9YJg7o-46"
      },
      "execution_count": null,
      "outputs": []
    },
    {
      "cell_type": "code",
      "source": [
        "my_list3= [num*2 for num in range(0,10)]\n",
        "print(my_list3)"
      ],
      "metadata": {
        "colab": {
          "base_uri": "https://localhost:8080/"
        },
        "id": "_4JRKImbo-8b",
        "outputId": "8fdec973-829a-4061-b3dc-bc62b04c879e"
      },
      "execution_count": 29,
      "outputs": [
        {
          "output_type": "stream",
          "name": "stdout",
          "text": [
            "[0, 2, 4, 6, 8, 10, 12, 14, 16, 18]\n"
          ]
        }
      ]
    },
    {
      "cell_type": "code",
      "source": [
        "my_list4= [num**2 for num in range(0,20) \n",
        "if num % 2 == 0]\n",
        "print(my_list4)"
      ],
      "metadata": {
        "colab": {
          "base_uri": "https://localhost:8080/"
        },
        "id": "J4gapTMfpUSc",
        "outputId": "2d7778f1-5da9-4e86-ae76-56a97549616c"
      },
      "execution_count": 32,
      "outputs": [
        {
          "output_type": "stream",
          "name": "stdout",
          "text": [
            "[0, 4, 16, 36, 64, 100, 144, 196, 256, 324]\n"
          ]
        }
      ]
    },
    {
      "cell_type": "code",
      "source": [
        "my_list5= [num**2 for num in range(0,20) \n",
        "if num % 2 != 0]\n",
        "print(my_list5)"
      ],
      "metadata": {
        "colab": {
          "base_uri": "https://localhost:8080/"
        },
        "id": "ag1WWtS2pUUk",
        "outputId": "7c92cc10-f77c-4f25-e39c-6ee78457e039"
      },
      "execution_count": 33,
      "outputs": [
        {
          "output_type": "stream",
          "name": "stdout",
          "text": [
            "[1, 9, 25, 49, 81, 121, 169, 225, 289, 361]\n"
          ]
        }
      ]
    },
    {
      "cell_type": "code",
      "source": [
        "# set comprehensions\n",
        "my_list5= {num**2 for num in range(0,20) \n",
        "if num % 2 != 0}\n",
        "print(my_list5)"
      ],
      "metadata": {
        "colab": {
          "base_uri": "https://localhost:8080/"
        },
        "id": "YidZsOFTpUWy",
        "outputId": "5b66d950-c714-44d0-fac7-5e3e26fbc5e5"
      },
      "execution_count": 34,
      "outputs": [
        {
          "output_type": "stream",
          "name": "stdout",
          "text": [
            "{1, 121, 225, 289, 9, 169, 361, 81, 49, 25}\n"
          ]
        }
      ]
    },
    {
      "cell_type": "code",
      "source": [
        "# dictionary comprehensions\n",
        "\n",
        "sim_dict={'jan':1,\n",
        "'feb': 2}\n",
        "my_dict = {k:v**2 for k,v in sim_dict.items() }\n",
        "print(my_dict)"
      ],
      "metadata": {
        "colab": {
          "base_uri": "https://localhost:8080/"
        },
        "id": "cBpWxkp9pUaY",
        "outputId": "98cf4844-bd32-4966-ffc5-db603451dd98"
      },
      "execution_count": 36,
      "outputs": [
        {
          "output_type": "stream",
          "name": "stdout",
          "text": [
            "{'jan': 1, 'feb': 4}\n"
          ]
        }
      ]
    },
    {
      "cell_type": "code",
      "source": [],
      "metadata": {
        "id": "OXTX6NIfrm1Q"
      },
      "execution_count": null,
      "outputs": []
    },
    {
      "cell_type": "markdown",
      "source": [],
      "metadata": {
        "id": "Fok0aRaGRtIC"
      }
    }
  ]
}